{
  "nbformat": 4,
  "nbformat_minor": 0,
  "metadata": {
    "kernelspec": {
      "display_name": "Python 3",
      "language": "python",
      "name": "python3"
    },
    "language_info": {
      "codemirror_mode": {
        "name": "ipython",
        "version": 3
      },
      "file_extension": ".py",
      "mimetype": "text/x-python",
      "name": "python",
      "nbconvert_exporter": "python",
      "pygments_lexer": "ipython3",
      "version": "3.7.6"
    },
    "colab": {
      "name": "Web-Scraping-Review-Lab.ipynb",
      "provenance": [],
      "collapsed_sections": []
    }
  },
  "cells": [
    {
      "cell_type": "markdown",
      "metadata": {
        "id": "KRfZ7WGpmiFe"
      },
      "source": [
        "<center>\n",
        "    <img src=\"https://gitlab.com/ibm/skills-network/courses/placeholder101/-/raw/master/labs/module%201/images/IDSNlogo.png\" width=\"300\" alt=\"cognitiveclass.ai logo\"  />\n",
        "</center>\n"
      ]
    },
    {
      "cell_type": "markdown",
      "metadata": {
        "id": "HDqorM6jmiFj"
      },
      "source": [
        "# **Web Scraping Lab**\n"
      ]
    },
    {
      "cell_type": "markdown",
      "metadata": {
        "id": "3su5N4oLmiFk"
      },
      "source": [
        "Estimated time needed: **30** minutes\n"
      ]
    },
    {
      "cell_type": "markdown",
      "metadata": {
        "id": "rO6GcErJmiFl"
      },
      "source": [
        "## Objectives\n"
      ]
    },
    {
      "cell_type": "markdown",
      "metadata": {
        "id": "57NnRqE9miFl"
      },
      "source": [
        "After completing this lab you will be able to:\n"
      ]
    },
    {
      "cell_type": "markdown",
      "metadata": {
        "id": "ajmHDweQmiFm"
      },
      "source": [
        "*   Download a webpage using requests module\n",
        "*   Scrape all links from a web page\n",
        "*   Scrape all image urls from a web page\n",
        "*   Scrape data from html tables\n"
      ]
    },
    {
      "cell_type": "markdown",
      "metadata": {
        "id": "r7YKQvrOmiFm"
      },
      "source": [
        "## Scrape [www.ibm.com](http://www.ibm.com/?utm_medium=Exinfluencer\\&utm_source=Exinfluencer\\&utm_content=000026UJ\\&utm_term=10006555\\&utm_id=NA-SkillsNetwork-Channel-SkillsNetworkCoursesIBMDA0321ENSkillsNetwork21426264-2021-01-01)\n"
      ]
    },
    {
      "cell_type": "markdown",
      "metadata": {
        "id": "smL0ICwGmiFo"
      },
      "source": [
        "Import the required modules and functions\n"
      ]
    },
    {
      "cell_type": "code",
      "metadata": {
        "id": "56CmrLfAmiFp"
      },
      "source": [
        "from bs4 import BeautifulSoup # this module helps in web scrapping.\n",
        "import requests  # this module helps us to download a web page"
      ],
      "execution_count": 1,
      "outputs": []
    },
    {
      "cell_type": "markdown",
      "metadata": {
        "id": "zi-gssdUmiFr"
      },
      "source": [
        "Download the contents of the web page\n"
      ]
    },
    {
      "cell_type": "code",
      "metadata": {
        "id": "vIUfp1WnmiFr"
      },
      "source": [
        "url = \"http://www.ibm.com\""
      ],
      "execution_count": 2,
      "outputs": []
    },
    {
      "cell_type": "code",
      "metadata": {
        "id": "Ykxe2kX-miFs"
      },
      "source": [
        "# get the contents of the webpage in text format and store in a variable called data\n",
        "data  = requests.get(url).text "
      ],
      "execution_count": 3,
      "outputs": []
    },
    {
      "cell_type": "markdown",
      "metadata": {
        "id": "8Rb8uCI1miFs"
      },
      "source": [
        "Create a soup object using the class BeautifulSoup\n"
      ]
    },
    {
      "cell_type": "code",
      "metadata": {
        "id": "rifMcOUVmiFt"
      },
      "source": [
        "soup = BeautifulSoup(data,\"html5lib\")  # create a soup object using the variable 'data'"
      ],
      "execution_count": 4,
      "outputs": []
    },
    {
      "cell_type": "markdown",
      "metadata": {
        "id": "YM2POKYrmiFu"
      },
      "source": [
        "Scrape all links\n"
      ]
    },
    {
      "cell_type": "code",
      "metadata": {
        "colab": {
          "base_uri": "https://localhost:8080/"
        },
        "id": "NONAgNE_miFu",
        "outputId": "4943d182-cf35-4fa0-e58e-81a2789792e8"
      },
      "source": [
        "for link in soup.find_all('a'):  # in html anchor/link is represented by the tag <a>\n",
        "    print(link.get('href'))"
      ],
      "execution_count": 5,
      "outputs": [
        {
          "output_type": "stream",
          "text": [
            "#main-content\n",
            "http://www.ibm.com\n",
            "https://www.ibm.com/garage/tour/?lnk=ushpv18l1\n",
            "https://www.ibm.com/products/intelligent-promising?lnk=ushpv18f1\n",
            "https://community.ibm.com/community/user/ibmz-and-linuxone/blogs/fiona-king1/2021/07/26/announcing-zos-v25?lnk=ushpv18f2\n",
            "https://www.ibm.com/analytics/services/data-science-and-ai-elite?lnk=ushpv18f3\n",
            "https://www.ibm.com/thought-leadership/institute-business-value/report/hybrid-cloud-business-value?lnk=ushpv18f4\n",
            "https://www.ibm.com/products/offers-and-discounts?link=ushpv18t5&lnk2=trial_mktpl_MPDISC\n",
            "https://www.ibm.com/cloud/watson-natural-language-understanding?lnk=ushpv18t1&psrc=NONE&pexp=DEF&lnk2=trial_WatNatLangUnd\n",
            "https://www.ibm.com/products/cognos-analytics?lnk=ushpv18t2&lnk2=trial_CogAnalytics&psrc=none&pexp=def\n",
            "https://www.ibm.com/products/unified-endpoint-management/pricing?lnk=ushpv18t3&lnk2=trial_MaaS360Wat&psrc=none&pexp=def\n",
            "https://www.ibm.com/products/digital-learning-subscription/pricing?lnk=ushpv18t4&lnk2=trial_DigLearning&psrc=none&pexp=def\n",
            "https://www.ibm.com/search?lnk=ushpv18srch&locale=en-us&q=\n",
            "https://www.ibm.com/products?lnk=ushpv18p1&lnk2=trial_mktpl&psrc=none&pexp=def\n",
            "https://www.ibm.com/cloud/hybrid?lnk=ushpv18pt14\n",
            "https://www.ibm.com/watson?lnk=ushpv18pt17\n",
            "https://www.ibm.com/it-infrastructure?lnk=ushpv18pt19\n",
            "https://www.ibm.com/us-en/products/categories?technologyTopics%5B0%5D%5B0%5D=cat.topic:Blockchain&isIBMOffering%5B0%5D=true&lnk=ushpv18pt4\n",
            "https://www.ibm.com/us-en/products/category/technology/security?lnk=ushpv18pt9\n",
            "https://www.ibm.com/us-en/products/category/technology/analytics?lnk=ushpv18pt1\n",
            "https://www.ibm.com/cloud/automation?lnk=ushpv18ct21\n",
            "https://www.ibm.com/quantum-computing?lnk=ushpv18pt16\n",
            "https://www.ibm.com/support/home/?lnk=ushpv18ct11\n",
            "https://www.ibm.com/training/?lnk=ushpv18ct15\n",
            "https://www.ibm.com/demos/?lnk=ushpv18ct12\n",
            "https://developer.ibm.com/?lnk=ushpv18ct9\n",
            "https://www.ibm.com/garage?lnk=ushpv18pt18\n",
            "https://www.ibm.com/docs/en?lnk=ushpv18ct14\n",
            "https://www.redbooks.ibm.com/?lnk=ushpv18ct10\n",
            "https://www-03.ibm.com/employment/technicaltalent/developer/?lnk=ushpv18ct2\n",
            "https://www.ibm.com/\n"
          ],
          "name": "stdout"
        }
      ]
    },
    {
      "cell_type": "markdown",
      "metadata": {
        "id": "msXderJomiFv"
      },
      "source": [
        "Scrape  all images\n"
      ]
    },
    {
      "cell_type": "code",
      "metadata": {
        "colab": {
          "base_uri": "https://localhost:8080/"
        },
        "id": "6xK7OptlmiFv",
        "outputId": "a6fea1aa-1673-4b43-9781-660ee028a782"
      },
      "source": [
        "for link in soup.find_all('img'):# in html image is represented by the tag <img>\n",
        "    print(link.get('src'))"
      ],
      "execution_count": 6,
      "outputs": [
        {
          "output_type": "stream",
          "text": [
            "data:image/svg+xml;base64,PHN2ZyB3aWR0aD0iMTA1NSIgaGVpZ2h0PSI1MjcuNSIgeG1sbnM9Imh0dHA6Ly93d3cudzMub3JnLzIwMDAvc3ZnIiB2ZXJzaW9uPSIxLjEiLz4=\n",
            "https://1.dam.s81c.com/public/content/dam/worldwide-content/homepage/ul/g/47/23/20210607-ls-garage-tour-720x360.png\n",
            "data:image/svg+xml;base64,PHN2ZyB3aWR0aD0iNDQwIiBoZWlnaHQ9IjMyMCIgeG1sbnM9Imh0dHA6Ly93d3cudzMub3JnLzIwMDAvc3ZnIiB2ZXJzaW9uPSIxLjEiLz4=\n",
            "https://1.dam.s81c.com/public/content/dam/worldwide-content/homepage/ul/g/5f/d0/20210727-sophisticated-inventory-promising-c-25983-444x320.jpg\n",
            "data:image/svg+xml;base64,PHN2ZyB3aWR0aD0iNDQwIiBoZWlnaHQ9IjMyMCIgeG1sbnM9Imh0dHA6Ly93d3cudzMub3JnLzIwMDAvc3ZnIiB2ZXJzaW9uPSIxLjEiLz4=\n",
            "https://1.dam.s81c.com/public/content/dam/worldwide-content/homepage/ul/g/92/cf/20210727-zOS-mainframe-ai-hybrid-26034-444x320.jpg\n",
            "data:image/svg+xml;base64,PHN2ZyB3aWR0aD0iNDQwIiBoZWlnaHQ9IjMyMCIgeG1sbnM9Imh0dHA6Ly93d3cudzMub3JnLzIwMDAvc3ZnIiB2ZXJzaW9uPSIxLjEiLz4=\n",
            "https://1.dam.s81c.com/public/content/dam/worldwide-content/homepage/ul/g/9b/bd/20201116-data-science-ai-elite-444x320.jpg\n",
            "data:image/svg+xml;base64,PHN2ZyB3aWR0aD0iNDQwIiBoZWlnaHQ9IjMyMCIgeG1sbnM9Imh0dHA6Ly93d3cudzMub3JnLzIwMDAvc3ZnIiB2ZXJzaW9uPSIxLjEiLz4=\n",
            "https://1.dam.s81c.com/public/content/dam/worldwide-content/homepage/ul/g/42/a1/20210727-ibv-value-of-cloud-26018-444x320.jpg\n",
            "data:image/svg+xml;base64,PHN2ZyB3aWR0aD0iNDQwIiBoZWlnaHQ9IjI2MCIgeG1sbnM9Imh0dHA6Ly93d3cudzMub3JnLzIwMDAvc3ZnIiB2ZXJzaW9uPSIxLjEiLz4=\n",
            "https://1.dam.s81c.com/public/content/dam/worldwide-content/homepage/ul/g/eb/84/Natural-Language-Understanding-23100-700x420.png\n",
            "data:image/gif;base64,R0lGODlhAQABAIAAAAAAAP///yH5BAEAAAAALAAAAAABAAEAAAIBRAA7\n",
            "data:image/svg+xml;base64,PHN2ZyB3aWR0aD0iNDQwIiBoZWlnaHQ9IjI2MCIgeG1sbnM9Imh0dHA6Ly93d3cudzMub3JnLzIwMDAvc3ZnIiB2ZXJzaW9uPSIxLjEiLz4=\n",
            "https://1.dam.s81c.com/public/content/dam/worldwide-content/homepage/ul/g/6a/a5/Cognos-Analytics-20626-700x420.png\n",
            "data:image/gif;base64,R0lGODlhAQABAIAAAAAAAP///yH5BAEAAAAALAAAAAABAAEAAAIBRAA7\n",
            "data:image/svg+xml;base64,PHN2ZyB3aWR0aD0iNDQwIiBoZWlnaHQ9IjI2MCIgeG1sbnM9Imh0dHA6Ly93d3cudzMub3JnLzIwMDAvc3ZnIiB2ZXJzaW9uPSIxLjEiLz4=\n",
            "https://1.dam.s81c.com/public/content/dam/worldwide-content/homepage/ul/g/4c/a5/10072019-t-bt-MaaS360-watson-23210-700x420.png\n",
            "data:image/gif;base64,R0lGODlhAQABAIAAAAAAAP///yH5BAEAAAAALAAAAAABAAEAAAIBRAA7\n",
            "data:image/svg+xml;base64,PHN2ZyB3aWR0aD0iNDQwIiBoZWlnaHQ9IjI2MCIgeG1sbnM9Imh0dHA6Ly93d3cudzMub3JnLzIwMDAvc3ZnIiB2ZXJzaW9uPSIxLjEiLz4=\n",
            "https://1.dam.s81c.com/public/content/dam/worldwide-content/homepage/ul/g/ed/88/Digital-Learning-Subscription-trial.png\n",
            "data:image/gif;base64,R0lGODlhAQABAIAAAAAAAP///yH5BAEAAAAALAAAAAABAAEAAAIBRAA7\n"
          ],
          "name": "stdout"
        }
      ]
    },
    {
      "cell_type": "markdown",
      "metadata": {
        "id": "dABG_lBZmiFw"
      },
      "source": [
        "## Scrape data from html tables\n"
      ]
    },
    {
      "cell_type": "code",
      "metadata": {
        "id": "VdmVa8hXmiFw"
      },
      "source": [
        "#The below url contains a html table with data about colors and color codes."
      ],
      "execution_count": 7,
      "outputs": []
    },
    {
      "cell_type": "code",
      "metadata": {
        "id": "5hbLLs3bmiFw"
      },
      "source": [
        "url = \"https://cf-courses-data.s3.us.cloud-object-storage.appdomain.cloud/IBM-DA0321EN-SkillsNetwork/labs/datasets/HTMLColorCodes.html\""
      ],
      "execution_count": 8,
      "outputs": []
    },
    {
      "cell_type": "markdown",
      "metadata": {
        "id": "MmgJDbYSmiFx"
      },
      "source": [
        "Before proceeding to scrape a web site, you need to examine the contents, and the way data is organized on the website. Open the above url in your browser and check how many rows and columns are there in the color table.\n"
      ]
    },
    {
      "cell_type": "code",
      "metadata": {
        "id": "qYuFKTzzmiFx"
      },
      "source": [
        "# get the contents of the webpage in text format and store in a variable called data\n",
        "data  = requests.get(url).text"
      ],
      "execution_count": 9,
      "outputs": []
    },
    {
      "cell_type": "code",
      "metadata": {
        "id": "M4Y98I_GmiFy"
      },
      "source": [
        "soup = BeautifulSoup(data,\"html5lib\")"
      ],
      "execution_count": 10,
      "outputs": []
    },
    {
      "cell_type": "code",
      "metadata": {
        "id": "LAvM6D1BmiFy"
      },
      "source": [
        "#find a html table in the web page\n",
        "table = soup.find('table') # in html table is represented by the tag <table>"
      ],
      "execution_count": 11,
      "outputs": []
    },
    {
      "cell_type": "code",
      "metadata": {
        "colab": {
          "base_uri": "https://localhost:8080/"
        },
        "id": "GOiK-RDfmiFy",
        "outputId": "67f4a43f-09c5-466c-ec2c-ca1c81c0a505"
      },
      "source": [
        "#Get all rows from the table\n",
        "for row in table.find_all('tr'): # in html table row is represented by the tag <tr>\n",
        "    # Get all columns in each row.\n",
        "    cols = row.find_all('td') # in html a column is represented by the tag <td>\n",
        "    color_name = cols[2].getText() # store the value in column 3 as color_name\n",
        "    color_code = cols[3].getText() # store the value in column 4 as color_code\n",
        "    print(\"{}--->{}\".format(color_name,color_code))"
      ],
      "execution_count": 12,
      "outputs": [
        {
          "output_type": "stream",
          "text": [
            "Color Name--->Hex Code#RRGGBB\n",
            "lightsalmon--->#FFA07A\n",
            "salmon--->#FA8072\n",
            "darksalmon--->#E9967A\n",
            "lightcoral--->#F08080\n",
            "coral--->#FF7F50\n",
            "tomato--->#FF6347\n",
            "orangered--->#FF4500\n",
            "gold--->#FFD700\n",
            "orange--->#FFA500\n",
            "darkorange--->#FF8C00\n",
            "lightyellow--->#FFFFE0\n",
            "lemonchiffon--->#FFFACD\n",
            "papayawhip--->#FFEFD5\n",
            "moccasin--->#FFE4B5\n",
            "peachpuff--->#FFDAB9\n",
            "palegoldenrod--->#EEE8AA\n",
            "khaki--->#F0E68C\n",
            "darkkhaki--->#BDB76B\n",
            "yellow--->#FFFF00\n",
            "lawngreen--->#7CFC00\n",
            "chartreuse--->#7FFF00\n",
            "limegreen--->#32CD32\n",
            "lime--->#00FF00\n",
            "forestgreen--->#228B22\n",
            "green--->#008000\n",
            "powderblue--->#B0E0E6\n",
            "lightblue--->#ADD8E6\n",
            "lightskyblue--->#87CEFA\n",
            "skyblue--->#87CEEB\n",
            "deepskyblue--->#00BFFF\n",
            "lightsteelblue--->#B0C4DE\n",
            "dodgerblue--->#1E90FF\n"
          ],
          "name": "stdout"
        }
      ]
    },
    {
      "cell_type": "markdown",
      "metadata": {
        "id": "tu-gmqSnmiF0"
      },
      "source": [
        "## Authors\n"
      ]
    },
    {
      "cell_type": "markdown",
      "metadata": {
        "id": "3gRvQjmXmiF0"
      },
      "source": [
        "Ramesh Sannareddy\n"
      ]
    },
    {
      "cell_type": "markdown",
      "metadata": {
        "id": "IKMVbB4RmiF1"
      },
      "source": [
        "### Other Contributors\n"
      ]
    },
    {
      "cell_type": "markdown",
      "metadata": {
        "id": "bF8mqsrlmiF1"
      },
      "source": [
        "Rav Ahuja\n"
      ]
    },
    {
      "cell_type": "markdown",
      "metadata": {
        "id": "o9Z8c9ZWmiF1"
      },
      "source": [
        "## Change Log\n"
      ]
    },
    {
      "cell_type": "markdown",
      "metadata": {
        "id": "q01oQZo6miF1"
      },
      "source": [
        "| Date (YYYY-MM-DD) | Version | Changed By        | Change Description                 |\n",
        "| ----------------- | ------- | ----------------- | ---------------------------------- |\n",
        "| 2020-10-17        | 0.1     | Ramesh Sannareddy | Created initial version of the lab |\n"
      ]
    },
    {
      "cell_type": "markdown",
      "metadata": {
        "id": "_n6Gyrh_miF2"
      },
      "source": [
        "Copyright © 2020 IBM Corporation. This notebook and its source code are released under the terms of the [MIT License](https://cognitiveclass.ai/mit-license/?utm_medium=Exinfluencer\\&utm_source=Exinfluencer\\&utm_content=000026UJ\\&utm_term=10006555\\&utm_id=NA-SkillsNetwork-Channel-SkillsNetworkCoursesIBMDA0321ENSkillsNetwork21426264-2021-01-01).\n"
      ]
    }
  ]
}